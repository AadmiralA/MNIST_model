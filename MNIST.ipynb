{
 "cells": [
  {
   "cell_type": "code",
   "execution_count": null,
   "id": "3fb718e0-1483-4591-93ea-06ad13131882",
   "metadata": {},
   "outputs": [],
   "source": [
    "import fastbook\n",
    "fastbook.setup_book()"
   ]
  },
  {
   "cell_type": "code",
   "execution_count": null,
   "id": "0f9eadaa-6bda-4131-93da-a96bb33bac89",
   "metadata": {},
   "outputs": [],
   "source": [
    "from fastai.vision.all import *\n",
    "from fastbook import *\n",
    "\n",
    "matplotlib.rc('image', cmap='Greys')"
   ]
  },
  {
   "cell_type": "code",
   "execution_count": null,
   "id": "4efa6cda-cceb-4d4b-9361-b7c73f90a8a3",
   "metadata": {},
   "outputs": [],
   "source": [
    "#load a dataset\n",
    "path = untar_data(URLs.MNIST)\n",
    "Path.BASE_PATH = path"
   ]
  },
  {
   "cell_type": "code",
   "execution_count": null,
   "id": "d4aa2e25-6f06-422c-a0e0-eb37634932ed",
   "metadata": {},
   "outputs": [],
   "source": [
    "#load all train images to tensor\n",
    "train_image_list = get_image_files(path/'training')\n",
    "train_digits = [tensor(Image.open(o)) for o in train_image_list]\n",
    "train_x = (torch.stack(train_digits).float() / 255).view(-1, 28*28)"
   ]
  },
  {
   "cell_type": "code",
   "execution_count": null,
   "id": "03a62367-03a8-4819-8a36-3e699349ced6",
   "metadata": {},
   "outputs": [],
   "source": [
    "#load labels\n",
    "train_y = tensor([int(o.parent.name) for o in train_image_list]).view(-1, 1)"
   ]
  },
  {
   "cell_type": "code",
   "execution_count": null,
   "id": "d754e01b-6171-44d7-a5ec-d77e90f5ae7d",
   "metadata": {},
   "outputs": [],
   "source": [
    "#convert to Dataloader\n",
    "dset = list(zip(train_x, train_y))\n",
    "dl = DataLoader(dset, batch_size=256)"
   ]
  },
  {
   "cell_type": "code",
   "execution_count": null,
   "id": "845a9c31-03fe-43fc-a0db-4e6b54633223",
   "metadata": {},
   "outputs": [],
   "source": [
    "#load a valid dataset\n",
    "valid_image_list = get_image_files(path/'testing')\n",
    "valid_digits = [tensor(Image.open(o)) for o in valid_image_list]\n",
    "valid_x = (torch.stack(valid_digits).float() / 255).view(-1, 28*28)"
   ]
  },
  {
   "cell_type": "code",
   "execution_count": null,
   "id": "efb9df0c-1034-4c95-ad07-8610979cdc60",
   "metadata": {},
   "outputs": [],
   "source": [
    "valid_y_list = [int(o.parent.name) for o in valid_image_list]\n",
    "valid_y = tensor(valid_y_list).view(-1, 1)"
   ]
  },
  {
   "cell_type": "code",
   "execution_count": null,
   "id": "f0fa0ab0-c572-4a31-ac93-eab825a4a5e6",
   "metadata": {},
   "outputs": [],
   "source": [
    "valid_dset = list(zip(valid_x, valid_y))\n",
    "valid_dl = DataLoader(valid_dset, batch_size=256)"
   ]
  },
  {
   "cell_type": "code",
   "execution_count": null,
   "id": "5f2afe3c-2855-44e5-91df-e9db20edbc8b",
   "metadata": {},
   "outputs": [],
   "source": [
    "#model\n",
    "simple_net = nn.Sequential(\n",
    "    nn.Linear(28*28, 30),\n",
    "    nn.ReLU(),\n",
    "    nn.Linear(30, 10)\n",
    ")\n",
    "\n",
    "#loss function\n",
    "def mnist_loss(pred, target):\n",
    "    loss = nn.CrossEntropyLoss()\n",
    "    return loss(pred, target.squeeze())\n",
    "\n",
    "#gradient calculation \n",
    "def calc_grad(x, y, model):\n",
    "    pred = model(x)\n",
    "    loss = mnist_loss(pred, y)\n",
    "    loss.backward()\n",
    "\n",
    "#SGD optimizer\n",
    "class BasicOptim:\n",
    "    def __init__(self, params, lr):\n",
    "        self.params, self.lr = list(params), lr\n",
    "    def step(self):\n",
    "        for p in self.params: p.data -= p.grad*lr\n",
    "    def zero_grad(self):\n",
    "        for p in self.params: p.grad = None\n",
    "\n",
    "#backpropagation\n",
    "def train_epoch(model):\n",
    "    for x, y in dl:\n",
    "        calc_grad(x, y, model)\n",
    "        opt.step()\n",
    "        opt.zero_grad()\n",
    "\n",
    "#accuracy\n",
    "def batch_accuracy(pred, actual):\n",
    "    digit_pred = pred.max(dim=1)[1]\n",
    "    return (digit_pred==actual.squeeze()).float().mean()\n",
    "\n",
    "def train_model(model, epoches):\n",
    "    for i in range(epoches):\n",
    "        train_epoch(model)\n",
    "        print(batch_accuracy(model(valid_x), valid_y), end=' ')"
   ]
  },
  {
   "cell_type": "code",
   "execution_count": null,
   "id": "d045e19a-33fb-46cc-be7e-3c4c1df1888b",
   "metadata": {},
   "outputs": [],
   "source": [
    "#set parametrs\n",
    "lr = 0.001\n",
    "opt = BasicOptim(simple_net.parameters(), lr)\n",
    "train_model(simple_net, 20)"
   ]
  },
  {
   "cell_type": "code",
   "execution_count": null,
   "id": "16996144-42a4-4b52-8907-5aca53fa0dcf",
   "metadata": {},
   "outputs": [],
   "source": [
    "#resnet model from fastai\n",
    "dls = ImageDataLoaders.from_folder(path, train='training',valid='testing')\n",
    "learn = cnn_learner(dls, resnet18, pretrained=False,\n",
    "                    loss_func=F.cross_entropy, metrics=accuracy, n_out=10)\n",
    "learn.fit_one_cycle(1, 0.1)"
   ]
  },
  {
   "cell_type": "code",
   "execution_count": null,
   "id": "fd866058-d0f9-424f-be9b-79b583b08bd1",
   "metadata": {},
   "outputs": [],
   "source": []
  }
 ],
 "metadata": {
  "kernelspec": {
   "display_name": "Python 3 (ipykernel)",
   "language": "python",
   "name": "python3"
  },
  "language_info": {
   "codemirror_mode": {
    "name": "ipython",
    "version": 3
   },
   "file_extension": ".py",
   "mimetype": "text/x-python",
   "name": "python",
   "nbconvert_exporter": "python",
   "pygments_lexer": "ipython3",
   "version": "3.11.5"
  }
 },
 "nbformat": 4,
 "nbformat_minor": 5
}
