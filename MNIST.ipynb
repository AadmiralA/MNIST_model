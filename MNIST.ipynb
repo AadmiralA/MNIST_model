{
  "cells": [
    {
      "cell_type": "code",
      "execution_count": null,
      "metadata": {
        "id": "TPwDMDCDQCHa"
      },
      "outputs": [],
      "source": [
        "from fastai.vision.all import *\n",
        "import matplotlib.pyplot as plt\n",
        "import numpy as np"
      ]
    },
    {
      "cell_type": "code",
      "execution_count": null,
      "metadata": {
        "id": "thImhM6pQI4l"
      },
      "outputs": [],
      "source": [
        "#load a dataset\n",
        "path = untar_data(URLs.MNIST)\n",
        "Path.BASE_PATH = path\n",
        "\n",
        "#load all train images to tensor\n",
        "train_image_list = get_image_files(path/'training')\n",
        "train_digits = [tensor(Image.open(o)) for o in train_image_list]\n",
        "train_x = (torch.stack(train_digits).float() / 255).view(-1, 28*28)\n",
        "\n",
        "#load labels\n",
        "train_y = tensor([int(o.parent.name) for o in train_image_list]).view(-1, 1)\n",
        "\n",
        "#load a valid dataset\n",
        "valid_image_list = get_image_files(path/'testing')\n",
        "valid_digits = [tensor(Image.open(o)) for o in valid_image_list]\n",
        "valid_x = (torch.stack(valid_digits).float() / 255).view(-1, 28*28)\n",
        "valid_y_list = [int(o.parent.name) for o in valid_image_list]\n",
        "valid_y = tensor(valid_y_list).view(-1, 1)\n",
        "\n",
        "#convert to Dataloader\n",
        "dset = list(zip(train_x, train_y))\n",
        "dl = DataLoader(dset, batch_size=256)\n",
        "valid_dset = list(zip(valid_x, valid_y))\n"
      ]
    },
    {
      "cell_type": "code",
      "execution_count": null,
      "metadata": {
        "id": "gC4ThjBEROJK"
      },
      "outputs": [],
      "source": [
        "#model\n",
        "simple_net = nn.Sequential(\n",
        "    nn.Linear(28*28, 30),\n",
        "    nn.ReLU(),\n",
        "    nn.Linear(30, 10)\n",
        ")"
      ]
    },
    {
      "cell_type": "code",
      "execution_count": null,
      "metadata": {
        "id": "LJNuKRKmXHtx"
      },
      "outputs": [],
      "source": [
        "#loss function\n",
        "def mnist_loss(pred, target):\n",
        "  loss = nn.CrossEntropyLoss()\n",
        "  return loss(pred, target.squeeze())\n",
        "\n",
        "#gradient calculation\n",
        "def calc_grad(x, y, model):\n",
        "  pred = model(x)\n",
        "  loss = mnist_loss(pred, y)\n",
        "  loss.backward()"
      ]
    },
    {
      "cell_type": "code",
      "execution_count": null,
      "metadata": {
        "id": "SODbyHQjTlnh"
      },
      "outputs": [],
      "source": [
        "#SGD optimizer\n",
        "class BasicOptim:\n",
        "    def __init__(self, params, lr):\n",
        "        self.params, self.lr = list(params), lr\n",
        "    def step(self):\n",
        "        for p in self.params: p.data -= p.grad*lr\n",
        "    def zero_grad(self):\n",
        "        for p in self.params: p.grad = None"
      ]
    },
    {
      "cell_type": "code",
      "execution_count": null,
      "metadata": {
        "id": "7hT_UJuxUEbu"
      },
      "outputs": [],
      "source": [
        "class Trainer:\n",
        "  def __init__(self, model, optimiser, pred, actual):\n",
        "        self.model = model\n",
        "        self.opt = optimiser\n",
        "        self.pred = pred\n",
        "        self.actual = actual\n",
        "\n",
        "  #backpropagation\n",
        "  def train_epoch(self):\n",
        "    for x, y in dl:\n",
        "        calc_grad(x, y, self.model)\n",
        "        self.opt.step()\n",
        "        self.opt.zero_grad()\n",
        "\n",
        "  #accuracy\n",
        "  def epoche_accuracy(self):\n",
        "    pred = self.model(self.pred)\n",
        "    digit_pred = pred.max(dim=1)[1]\n",
        "    return (digit_pred==self.actual.squeeze()).float().mean()\n",
        "\n"
      ]
    },
    {
      "cell_type": "code",
      "execution_count": null,
      "metadata": {
        "id": "MmAn6x0wYdNI"
      },
      "outputs": [],
      "source": [
        "list_of_accuracy=[]\n",
        "lr = 0.0005\n",
        "opt = BasicOptim(simple_net.parameters(), lr)\n",
        "trainer = Trainer(simple_net, opt, valid_x, valid_y)\n",
        "\n",
        "def train_model(epoches):\n",
        "  for i in range(epoches):\n",
        "      trainer.train_epoch()\n",
        "      list_of_accuracy.append(trainer.epoche_accuracy())"
      ]
    },
    {
      "cell_type": "code",
      "execution_count": null,
      "metadata": {
        "colab": {
          "base_uri": "https://localhost:8080/",
          "height": 466
        },
        "id": "khu1w4DJZHp-",
        "outputId": "b925ec17-7f88-492a-fc90-74cc33657088"
      },
      "outputs": [
        {
          "data": {
            "text/plain": [
              "[<matplotlib.lines.Line2D at 0x7e57660ff250>]"
            ]
          },
          "execution_count": 25,
          "metadata": {},
          "output_type": "execute_result"
        },
        {
          "data": {
            "image/png": "[encoded data removed]",
            "text/plain": [
              "<Figure size 640x480 with 1 Axes>"
            ]
          },
          "metadata": {},
          "output_type": "display_data"
        }
      ],
      "source": [
        "#accuracy plot\n",
        "train_model(40)\n",
        "x = [i for i in range(40)]\n",
        "fig, ax = plt.subplots()\n",
        "ax.set_xlabel('Number of Epoch')\n",
        "ax.set_ylabel('Accuracy')\n",
        "ax.plot(x,list_of_accuracy)"
      ]
    },
    {
      "cell_type": "code",
      "execution_count": null,
      "metadata": {
        "id": "8sbbZpoUaFrf"
      },
      "outputs": [],
      "source": []
    }
  ],
  "metadata": {
    "colab": {
      "provenance": []
    },
    "kernelspec": {
      "display_name": "Python 3",
      "name": "python3"
    },
    "language_info": {
      "name": "python"
    }
  },
  "nbformat": 4,
  "nbformat_minor": 0
}
